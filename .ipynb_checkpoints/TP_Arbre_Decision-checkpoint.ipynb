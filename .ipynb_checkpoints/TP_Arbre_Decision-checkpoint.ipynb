{
 "cells": [
  {
   "cell_type": "markdown",
   "id": "4174db0b-ac4b-40d5-9e5c-ddb9380aa9a0",
   "metadata": {},
   "source": [
    "## L'objectif de ce TP est d'appliquer le modèle des arbres de décision à un jeu de données et d'analyser les résultats obtenus. Pour cela, il va falloir procéder à plusieurs étapes préliminaires comme l'import des données, la visualisation des données, la préparation, le modèle, son optimisation et l'analyse des résultats. Notons que nous ne travaillerons pas la phase de feature selection et de feature engineering dans ce TP."
   ]
  },
  {
   "cell_type": "code",
   "execution_count": 353,
   "id": "ecb70aa6-4113-44fc-a64e-86de8d39b909",
   "metadata": {},
   "outputs": [],
   "source": [
    "# En plus des réponses à ce TP, ce document contient des informations importantes sur la manière de réaliser un algorithme de machine learning.\n",
    "# Il sera très important de le relire en détail pour le projet que vous devrez faire."
   ]
  },
  {
   "cell_type": "code",
   "execution_count": 354,
   "id": "4e906f8f-dfc4-404e-9f20-3e490399ff91",
   "metadata": {},
   "outputs": [],
   "source": [
    "#%pip install xgboost"
   ]
  },
  {
   "cell_type": "markdown",
   "id": "c12d939c-b8fc-49f8-b9a3-1a1be92f9a8e",
   "metadata": {},
   "source": [
    "# Import functions"
   ]
  },
  {
   "cell_type": "code",
   "execution_count": 1,
   "id": "04a0979b-434e-4730-bf64-570f54582573",
   "metadata": {},
   "outputs": [],
   "source": [
    "import pandas as pd\n",
    "import numpy as np\n",
    "import matplotlib.pyplot as plt\n",
    "from sklearn.tree import DecisionTreeClassifier\n",
    "from sklearn.ensemble import RandomForestClassifier\n",
    "from xgboost import XGBClassifier\n",
    "from sklearn.preprocessing import StandardScaler\n",
    "from sklearn import tree\n",
    "from sklearn.model_selection import train_test_split\n",
    "from sklearn.metrics import accuracy_score\n",
    "from sklearn.metrics import classification_report\n",
    "from sklearn.model_selection import GridSearchCV\n",
    "from sklearn.pipeline import Pipeline\n",
    "from sklearn.compose import ColumnTransformer"
   ]
  },
  {
   "cell_type": "markdown",
   "id": "42bd21e1-fa31-4846-a4b9-e712cb1cb0fb",
   "metadata": {},
   "source": [
    "# Import data"
   ]
  },
  {
   "cell_type": "code",
   "execution_count": 2,
   "id": "fe12cd66-0537-44d5-a4fc-d261351ba08d",
   "metadata": {},
   "outputs": [],
   "source": [
    "df = pd.read_csv('./diabetes.csv')"
   ]
  },
  {
   "cell_type": "code",
   "execution_count": 3,
   "id": "75389793-1eb7-42ab-a5be-bf7d42a3f447",
   "metadata": {},
   "outputs": [
    {
     "name": "stdout",
     "output_type": "stream",
     "text": [
      "(70692, 22)\n"
     ]
    }
   ],
   "source": [
    "# Nombre de lignes (individus) et de colonnes (variables) dans le dataframe\n",
    "print(df.shape)"
   ]
  },
  {
   "cell_type": "markdown",
   "id": "5df0e7c8-ce93-4c40-931b-735b93c933fb",
   "metadata": {},
   "source": [
    "# List of variables :\n",
    "    * Diabetes_binary : the target to predict !\n",
    "    * HighBP : 0 = no high BP / 1 = high BP\n",
    "    * HighChol : 0 = non high cholesterol / 1 = high cholesterol\n",
    "    * CholCheck : 0 = no cholesterol check in 5 years / 1 = yes cholesterol check in 5 years\n",
    "    * BMI : Body Mass Index\n",
    "    * Smoker : Have you smoked at least 100 cigarettes in your life ? 0 = no / 1 = yes\n",
    "    * HeartDiseaseorAttack : 0 = no / 1 = yes\n",
    "    * PhysActivity : physical activity in past 30 days ? 0 = no / 1 = yes\n",
    "    * Fruits : consume fruit 1 or more per day : 0 = no / 1 = yes\n",
    "    * Veggies : consume veggie 1 or more per day : 0 = no / 1 = yes\n",
    "    * HvyAlcoholConsump : if person exceed x drinks per week : 0 = no / 1 = yes\n",
    "    * AnyHealthCare : health insurance : 0 = no / 1 = yes \n",
    "    * NoDocbcCost : a time in the last 12 months when you needed to see a doctor but could not because of cost ? 0 = no / 1 = yes\n",
    "    * GenHlth : you say that in general your health is 1 = excellent / 5 = poor\n",
    "    * MentHlth : days of poor mental health scale 1-30 days\n",
    "    * PhysHlth : Physical illiness or injury days in past 30 days\n",
    "    * DiffWalk : difficulty to walk ? 0 = no / 1 = yes\n",
    "    * Sex : 0 female / 1 male\n",
    "    * Age : 1 = 18-24 / 13 = 80 or older\n",
    "    * Education : Scale 1 - 6\n",
    "    * Income : Scale 1 - 8 / 1 = less than 10k $ - 8 = more than 75k $"
   ]
  },
  {
   "cell_type": "markdown",
   "id": "c0b63e0d-61cb-40d6-9de2-e2eee3763af7",
   "metadata": {},
   "source": [
    "# EDA (Exploratory Data Analysis) :"
   ]
  },
  {
   "cell_type": "code",
   "execution_count": 362,
   "id": "10086e37-b390-4167-95d3-6aa914074c02",
   "metadata": {},
   "outputs": [],
   "source": [
    "# TO DO : Class of columns by type (continuous, categorical, binary ...)"
   ]
  },
  {
   "cell_type": "code",
   "execution_count": 6,
   "id": "3578ad79-e6bf-40fc-b987-c435d6c03c96",
   "metadata": {},
   "outputs": [
    {
     "name": "stdout",
     "output_type": "stream",
     "text": [
      "Diabetes_binary\n",
      "0.0    35346\n",
      "1.0    35346\n",
      "Name: count, dtype: int64\n"
     ]
    }
   ],
   "source": [
    "# Analyse de la variable cible\n",
    "\n",
    "print(df['Diabetes_binary'].value_counts())\n",
    "\n",
    "# C'est une classification à 2 classes qu'il faut faire car la variable cible est binaire. Donc une classification binaire\n",
    "# La variable cible est parfaitement équilibré, il n'y a pas besoin de réaliser de travaux à ce niveau la. \n",
    "\n",
    "# Si la variable est déséquilibrée, on peut soit faire de l'UNDERSAMPLING ou de l'OVERSAMPLING. \n",
    "# On peut aussi pondéré les classes minoritaires au niveau de l'algorithme pour forcer l'algorithme à apprendre davantage sur les données déséquilibrées. \n",
    "# Enfin, il faudra utiliser les bonnes métriques pour évaluer le modèle."
   ]
  },
  {
   "cell_type": "code",
   "execution_count": 364,
   "id": "f4224bb1-5c45-4258-8d33-3939bea4c9ef",
   "metadata": {},
   "outputs": [],
   "source": [
    "# Analyse des autres variables"
   ]
  },
  {
   "cell_type": "code",
   "execution_count": 9,
   "id": "1fd96ec9-dbce-42d6-8279-443721c0e6e3",
   "metadata": {},
   "outputs": [
    {
     "name": "stdout",
     "output_type": "stream",
     "text": [
      "<class 'pandas.core.frame.DataFrame'>\n",
      "RangeIndex: 70692 entries, 0 to 70691\n",
      "Data columns (total 22 columns):\n",
      " #   Column                Non-Null Count  Dtype  \n",
      "---  ------                --------------  -----  \n",
      " 0   Diabetes_binary       70692 non-null  float64\n",
      " 1   HighBP                70692 non-null  float64\n",
      " 2   HighChol              70692 non-null  float64\n",
      " 3   CholCheck             70692 non-null  float64\n",
      " 4   BMI                   70692 non-null  float64\n",
      " 5   Smoker                70692 non-null  float64\n",
      " 6   Stroke                70692 non-null  float64\n",
      " 7   HeartDiseaseorAttack  70692 non-null  float64\n",
      " 8   PhysActivity          70692 non-null  float64\n",
      " 9   Fruits                70692 non-null  float64\n",
      " 10  Veggies               70692 non-null  float64\n",
      " 11  HvyAlcoholConsump     70692 non-null  float64\n",
      " 12  AnyHealthcare         70692 non-null  float64\n",
      " 13  NoDocbcCost           70692 non-null  float64\n",
      " 14  GenHlth               70692 non-null  float64\n",
      " 15  MentHlth              70692 non-null  float64\n",
      " 16  PhysHlth              70692 non-null  float64\n",
      " 17  DiffWalk              70692 non-null  float64\n",
      " 18  Sex                   70692 non-null  float64\n",
      " 19  Age                   70692 non-null  float64\n",
      " 20  Education             70692 non-null  float64\n",
      " 21  Income                70692 non-null  float64\n",
      "dtypes: float64(22)\n",
      "memory usage: 11.9 MB\n",
      "None\n"
     ]
    }
   ],
   "source": [
    "print(df.info())"
   ]
  },
  {
   "cell_type": "code",
   "execution_count": 366,
   "id": "732eae4e-2111-4e69-b932-72c43181ecfd",
   "metadata": {},
   "outputs": [],
   "source": [
    "# Par rapport à la cellule précédente, on s'aperçoit que l'ensemble des variables sont de type float.\n",
    "# Pour rappel, avant d'entrainer un algorithme, il faut que l'ensemble des variables soit de type numérique.\n",
    "# On s'aperçoit également qu'il n'y a aucune donnée manquante\n",
    "\n",
    "# En cas de variable non numérique, il faut analyser s'il s'agit de variable catégorielle à traiter ou si c'est une variable continue dont Python a mal détecté le type\n",
    "# Si le type est mal détecté, il faut trouver s'il y a pas une valeur non numérique quelque part dans le dataframe, et il faut changer le type de la variable\n",
    "# Si la variable est catégoriel, il faut la traiter. De manière basique, si la variable suit une relation d'ordre, on peut appliquer un ENCODAGE ORDINAL.\n",
    "# Dans le cas ou la variable ne suit pas une relation d'ordre, on peut appliquer un ENCODAGE ONE HOT\n",
    "\n",
    "# Pour les variables de type numérique, si elles sont continues, on peut appliquer une normalisation (il existe plusieurs types de normalisation comme le STANDARD_SCALER() ou le MIN_MAX_SCALER().\n",
    "# Pour les variables continues, on peut aussi faire ce que l'on appelle une DISCRETISATION pour aider l'algorithme a mieux comprendre la variable\n",
    "# On note que pour des algorithmes basés sur des arbres de décision, la normalisation n'est pas forcément nécessaire\n",
    "# Si une variable catégorielle est de type numérique, il faut s'assurer qu'elle est du sens par rapport au problème, et la retravailler ou la supprimer si ce n'est pas le cas\n",
    "\n",
    "# S'il y a des valeurs manquantes dans le jeu de données, il faut trouver une stratégie. Il faut d'abord se poser la question si le fait d'avoir une valeure manquante est une information en elle même ou non.\n",
    "# Ensuite, on peut appliquer une des stratégies suivantes. Supprimer les lignes contenant des valeurs manquantes, Remplacer par une constante les valeurs manquantes, Remplacer les valeurs manquantes par une moyenne ou mediane ...\n",
    "\n",
    "# Analysons l'ensemble des variables"
   ]
  },
  {
   "cell_type": "code",
   "execution_count": 11,
   "id": "0c180729-4100-4c53-81bd-4adbd8ab3f25",
   "metadata": {},
   "outputs": [
    {
     "name": "stdout",
     "output_type": "stream",
     "text": [
      "Diabetes_binary Diabetes_binary\n",
      "0.0    35346\n",
      "1.0    35346\n",
      "Name: count, dtype: int64\n",
      "HighBP HighBP\n",
      "1.0    39832\n",
      "0.0    30860\n",
      "Name: count, dtype: int64\n",
      "HighChol HighChol\n",
      "1.0    37163\n",
      "0.0    33529\n",
      "Name: count, dtype: int64\n",
      "CholCheck CholCheck\n",
      "1.0    68943\n",
      "0.0     1749\n",
      "Name: count, dtype: int64\n",
      "BMI BMI\n",
      "27.0    6327\n",
      "26.0    4975\n",
      "28.0    4583\n",
      "24.0    4392\n",
      "30.0    4344\n",
      "        ... \n",
      "85.0       1\n",
      "83.0       1\n",
      "80.0       1\n",
      "78.0       1\n",
      "74.0       1\n",
      "Name: count, Length: 80, dtype: int64\n",
      "Smoker Smoker\n",
      "0.0    37094\n",
      "1.0    33598\n",
      "Name: count, dtype: int64\n",
      "Stroke Stroke\n",
      "0.0    66297\n",
      "1.0     4395\n",
      "Name: count, dtype: int64\n",
      "HeartDiseaseorAttack HeartDiseaseorAttack\n",
      "0.0    60243\n",
      "1.0    10449\n",
      "Name: count, dtype: int64\n",
      "PhysActivity PhysActivity\n",
      "1.0    49699\n",
      "0.0    20993\n",
      "Name: count, dtype: int64\n",
      "Fruits Fruits\n",
      "1.0    43249\n",
      "0.0    27443\n",
      "Name: count, dtype: int64\n",
      "Veggies Veggies\n",
      "1.0    55760\n",
      "0.0    14932\n",
      "Name: count, dtype: int64\n",
      "HvyAlcoholConsump HvyAlcoholConsump\n",
      "0.0    67672\n",
      "1.0     3020\n",
      "Name: count, dtype: int64\n",
      "AnyHealthcare AnyHealthcare\n",
      "1.0    67508\n",
      "0.0     3184\n",
      "Name: count, dtype: int64\n",
      "NoDocbcCost NoDocbcCost\n",
      "0.0    64053\n",
      "1.0     6639\n",
      "Name: count, dtype: int64\n",
      "GenHlth GenHlth\n",
      "3.0    23427\n",
      "2.0    19872\n",
      "4.0    13303\n",
      "1.0     8282\n",
      "5.0     5808\n",
      "Name: count, dtype: int64\n",
      "MentHlth MentHlth\n",
      "0.0     48091\n",
      "30.0     4320\n",
      "2.0      3267\n",
      "5.0      2519\n",
      "1.0      2051\n",
      "3.0      1967\n",
      "10.0     1924\n",
      "15.0     1767\n",
      "20.0     1125\n",
      "4.0       981\n",
      "7.0       825\n",
      "25.0      425\n",
      "14.0      353\n",
      "6.0       288\n",
      "8.0       198\n",
      "12.0      130\n",
      "28.0       99\n",
      "21.0       84\n",
      "29.0       53\n",
      "18.0       42\n",
      "16.0       28\n",
      "9.0        28\n",
      "22.0       22\n",
      "17.0       18\n",
      "26.0       17\n",
      "27.0       17\n",
      "13.0       15\n",
      "23.0       13\n",
      "24.0       10\n",
      "11.0        8\n",
      "19.0        7\n",
      "Name: count, dtype: int64\n",
      "PhysHlth PhysHlth\n",
      "0.0     39915\n",
      "30.0     7953\n",
      "2.0      4102\n",
      "1.0      2853\n",
      "3.0      2438\n",
      "5.0      2332\n",
      "10.0     1980\n",
      "15.0     1913\n",
      "4.0      1376\n",
      "7.0      1326\n",
      "20.0     1292\n",
      "14.0      802\n",
      "25.0      557\n",
      "6.0       447\n",
      "8.0       276\n",
      "21.0      229\n",
      "28.0      211\n",
      "12.0      205\n",
      "29.0       95\n",
      "9.0        55\n",
      "18.0       50\n",
      "16.0       50\n",
      "17.0       35\n",
      "27.0       34\n",
      "22.0       31\n",
      "23.0       27\n",
      "26.0       26\n",
      "13.0       26\n",
      "24.0       24\n",
      "11.0       22\n",
      "19.0       10\n",
      "Name: count, dtype: int64\n",
      "DiffWalk DiffWalk\n",
      "0.0    52826\n",
      "1.0    17866\n",
      "Name: count, dtype: int64\n",
      "Sex Sex\n",
      "0.0    38386\n",
      "1.0    32306\n",
      "Name: count, dtype: int64\n",
      "Age Age\n",
      "10.0    10856\n",
      "9.0     10112\n",
      "8.0      8603\n",
      "11.0     8044\n",
      "7.0      6872\n",
      "13.0     5426\n",
      "12.0     5394\n",
      "6.0      4648\n",
      "5.0      3520\n",
      "4.0      2793\n",
      "3.0      2049\n",
      "2.0      1396\n",
      "1.0       979\n",
      "Name: count, dtype: int64\n",
      "Education Education\n",
      "6.0    26020\n",
      "5.0    20030\n",
      "4.0    19473\n",
      "3.0     3447\n",
      "2.0     1647\n",
      "1.0       75\n",
      "Name: count, dtype: int64\n",
      "Income Income\n",
      "8.0    20646\n",
      "7.0    11425\n",
      "6.0    10287\n",
      "5.0     8010\n",
      "4.0     6658\n",
      "3.0     5557\n",
      "2.0     4498\n",
      "1.0     3611\n",
      "Name: count, dtype: int64\n"
     ]
    }
   ],
   "source": [
    "for i in df.columns:\n",
    "    print(i, df[i].value_counts())"
   ]
  },
  {
   "cell_type": "code",
   "execution_count": 13,
   "id": "d1420c8c-4d45-4d2b-b034-2f5f95eeaa45",
   "metadata": {},
   "outputs": [],
   "source": [
    "# Après une première analyse, il semble que le classement suivant des variables soit pertinent :\n",
    "\n",
    "cat_columns = ['GenHlth', 'Age', 'Education', 'Income']\n",
    "cont_columns = ['BMI', 'MentHlth', 'PhysHlth']\n",
    "binary_columns = ['HighBP', 'HighChol', 'CholCheck', 'Smoker', 'Stroke', 'HeartDiseaseorAttack', 'PhysActivity', \n",
    "                  'Fruits', 'Veggies', 'HvyAlcoholConsump', 'AnyHealthcare', 'NoDocbcCost', 'DiffWalk', 'Sex']"
   ]
  },
  {
   "cell_type": "code",
   "execution_count": 15,
   "id": "81236ee1-902c-4a51-a7e8-56fac0f22b22",
   "metadata": {},
   "outputs": [
    {
     "data": {
      "image/png": "[encoded data removed]",
      "text/plain": [
       "<Figure size 1200x800 with 1 Axes>"
      ]
     },
     "metadata": {},
     "output_type": "display_data"
    },
    {
     "data": {
      "image/png": "[encoded data removed]",
      "text/plain": [
       "<Figure size 1200x800 with 1 Axes>"
      ]
     },
     "metadata": {},
     "output_type": "display_data"
    },
    {
     "data": {
      "image/png": "[encoded data removed]",
      "text/plain": [
       "<Figure size 1200x800 with 1 Axes>"
      ]
     },
     "metadata": {},
     "output_type": "display_data"
    }
   ],
   "source": [
    "# Analysons la distribution des variables continues\n",
    "\n",
    "for i in cont_columns:\n",
    "    plt.figure(figsize=(12,8))\n",
    "    plt.hist(df[i], bins = 100, density = True)\n",
    "    plt.title(i)\n",
    "    plt.show()"
   ]
  },
  {
   "cell_type": "code",
   "execution_count": 370,
   "id": "cac5d8c3-f0c0-4490-b076-d62f5bbccd64",
   "metadata": {},
   "outputs": [],
   "source": [
    "# Il semblerait finalement que l'on est une seule variable continue, qui est le BMI.\n",
    "# Pour les deux autres, il y a débat, nous pouvons choisir entre catégorielle ou continue"
   ]
  },
  {
   "cell_type": "code",
   "execution_count": 371,
   "id": "4ee01551-e1d5-4c8c-a797-ac91632f1924",
   "metadata": {},
   "outputs": [],
   "source": [
    "# Normalement il faut aller plus loin pour l'EDA, on peut par exemple faire une analyse des corrélations entre les variables continues.\n",
    "# On peut aussi faire des plots deux à deux entre deux variables catégorielles ou une variable catégorielle et une variable continue."
   ]
  },
  {
   "cell_type": "code",
   "execution_count": 372,
   "id": "0ff68784-d8ea-4a99-979b-1412f87c49f2",
   "metadata": {},
   "outputs": [],
   "source": [
    "# Notre EDA est terminé"
   ]
  },
  {
   "cell_type": "code",
   "execution_count": 16,
   "id": "ca03849a-cd95-4783-9d9a-de2a90281fe7",
   "metadata": {},
   "outputs": [],
   "source": [
    "target = 'Diabetes_binary'\n",
    "\n",
    "cat_columns = ['GenHlth', 'Age', 'Education', 'Income', 'MentHlth', 'PhysHlth']\n",
    "cont_columns = ['BMI']\n",
    "binary_columns = ['HighBP', 'HighChol', 'CholCheck', 'Smoker', 'Stroke', 'HeartDiseaseorAttack', 'PhysActivity', \n",
    "                  'Fruits', 'Veggies', 'HvyAlcoholConsump', 'AnyHealthcare', 'NoDocbcCost', 'DiffWalk', 'Sex']\n",
    "\n",
    "# La conclusion de l'EDA est la répartition des variables ci-dessus.\n",
    "\n",
    "# Par contre en terme d'opération à réaliser, le dataset est déjà très très propre (CE QUI N'ARRIVE JAMAIS DANS LE MONDE DE LA DATA !!!!!!!!!!!!!!!)\n",
    "# On peut appliquer par exemple une normalisation de la variable continue pour avoir une idée de comment faire \n",
    "# (mais peu de chances que cela améliore le résultat du modèle car ce sont des arbres de décision)\n",
    "\n",
    "# On ne retravaillera pas les variables catégorielles binaires si les autres variables catégorielles ici."
   ]
  },
  {
   "cell_type": "markdown",
   "id": "4810dc6d-e482-47f7-9fdd-c0cb8abf0ddc",
   "metadata": {},
   "source": [
    "# Split the data :"
   ]
  },
  {
   "cell_type": "code",
   "execution_count": 19,
   "id": "2d619f7e-9982-41b1-a515-b41b8e793e4b",
   "metadata": {},
   "outputs": [],
   "source": [
    "# TO DO : Random split of the data to create test and training database\n",
    "\n",
    "X = df[cat_columns + cont_columns + binary_columns] # X contient nos variables explicatives\n",
    "y = df[target] # y est notre variable à expliquer, autrement dit la variable cible\n",
    "\n",
    "X_train, X_test, Y_train, Y_test = train_test_split(X, y, test_size = 0.25) \n",
    "\n",
    "# On applique on split qui est par défaut aléatoire et non stratifié mais on pourrait changer ces paramètres suivant le problème à résoudre\n",
    "# Par exemple, si notre dataset à une dimension temporelle, il peut être pertinent que la base d'entrainement contient des données de 2018 à 2022 et la base de test après 2022 "
   ]
  },
  {
   "cell_type": "code",
   "execution_count": 21,
   "id": "d6989996-5bb1-456b-b7fa-13ad5cd0f4f5",
   "metadata": {},
   "outputs": [
    {
     "name": "stdout",
     "output_type": "stream",
     "text": [
      "(53019, 21)\n",
      "(17673, 21)\n",
      "(53019,)\n",
      "(17673,)\n"
     ]
    }
   ],
   "source": [
    "# Vérification\n",
    "\n",
    "print(X_train.shape)\n",
    "print(X_test.shape)\n",
    "print(Y_train.shape)\n",
    "print(Y_test.shape)"
   ]
  },
  {
   "cell_type": "markdown",
   "id": "7e1438ce-8d83-424c-ae75-6a1d6ef7daca",
   "metadata": {},
   "source": [
    "# Data Preprocessing :"
   ]
  },
  {
   "cell_type": "code",
   "execution_count": 378,
   "id": "b090beb1-cb0e-430a-b028-5cc2a2a3d1e1",
   "metadata": {},
   "outputs": [],
   "source": [
    "# TO DO : Based on the previous analyse, rework a part of the variable"
   ]
  },
  {
   "cell_type": "code",
   "execution_count": 23,
   "id": "123338be-a95b-4031-8f3a-d26e9961d968",
   "metadata": {},
   "outputs": [],
   "source": [
    "scaler = StandardScaler()\n",
    "\n",
    "X_train['BMI_scaled'] = scaler.fit_transform(X_train[['BMI']])\n",
    "X_test['BMI_scaled'] = scaler.transform(X_test[['BMI']])\n",
    "\n",
    "X_train.drop('BMI', axis = 1, inplace = True)\n",
    "X_test.drop('BMI', axis = 1, inplace = True)"
   ]
  },
  {
   "cell_type": "markdown",
   "id": "8f92e701-d3ee-4ae9-91c5-739b0a2f0ea8",
   "metadata": {},
   "source": [
    "# Variable Selection and Feature Engineering"
   ]
  },
  {
   "cell_type": "code",
   "execution_count": 381,
   "id": "05c650d3-4bad-4a26-b9d2-ccf4c918313a",
   "metadata": {},
   "outputs": [],
   "source": [
    "# Nous n'aborderons pas ces deux sujets dans le cadre de ce TP.\n",
    "# Cependant, pour aider certains algorithmes, il peut être pertinent de supprimer les variables les moins importantes ou qui apporte une information similaire à une autre\n",
    "# On peut aussi ajouter de nouvelles variables qui nous semble pertinente par rapport à la problématique\n",
    "# Vous pouvez consulter internet pour avoir une idée plus précise des algorithmes existants"
   ]
  },
  {
   "cell_type": "markdown",
   "id": "10e6c385-1eec-4908-b434-5a995dff1e25",
   "metadata": {},
   "source": [
    "# Model training"
   ]
  },
  {
   "cell_type": "code",
   "execution_count": 383,
   "id": "bbd39eaa-cd5b-4b59-a175-a26fb2f9a6ec",
   "metadata": {},
   "outputs": [],
   "source": [
    "# TO DO : Train the Decision Tree model"
   ]
  },
  {
   "cell_type": "code",
   "execution_count": 25,
   "id": "43fbf96e-032a-4fdc-bd97-e9d828b223b0",
   "metadata": {},
   "outputs": [
    {
     "name": "stdout",
     "output_type": "stream",
     "text": [
      "       GenHlth   Age  Education  Income  MentHlth  PhysHlth  HighBP  HighChol  \\\n",
      "70203      3.0   6.0        5.0     5.0       0.0       0.0     0.0       0.0   \n",
      "40165      2.0   9.0        5.0     6.0       1.0       0.0     1.0       1.0   \n",
      "19224      2.0   7.0        4.0     7.0       0.0       0.0     1.0       0.0   \n",
      "971        2.0   7.0        4.0     2.0       0.0       2.0     0.0       0.0   \n",
      "48244      1.0  10.0        6.0     6.0       0.0       0.0     0.0       0.0   \n",
      "...        ...   ...        ...     ...       ...       ...     ...       ...   \n",
      "32577      1.0   7.0        6.0     8.0       0.0       1.0     0.0       0.0   \n",
      "48337      5.0   7.0        5.0     4.0      30.0      30.0     0.0       1.0   \n",
      "61327      2.0   9.0        6.0     8.0      30.0      10.0     1.0       0.0   \n",
      "56         3.0   3.0        6.0     8.0       0.0       1.0     0.0       0.0   \n",
      "36497      5.0   9.0        5.0     3.0       3.0      17.0     1.0       1.0   \n",
      "\n",
      "       CholCheck  Smoker  ...  HeartDiseaseorAttack  PhysActivity  Fruits  \\\n",
      "70203        1.0     0.0  ...                   0.0           0.0     1.0   \n",
      "40165        1.0     0.0  ...                   1.0           1.0     1.0   \n",
      "19224        1.0     0.0  ...                   0.0           1.0     1.0   \n",
      "971          0.0     0.0  ...                   0.0           0.0     1.0   \n",
      "48244        1.0     1.0  ...                   0.0           0.0     1.0   \n",
      "...          ...     ...  ...                   ...           ...     ...   \n",
      "32577        0.0     0.0  ...                   0.0           1.0     1.0   \n",
      "48337        1.0     0.0  ...                   0.0           1.0     1.0   \n",
      "61327        1.0     0.0  ...                   0.0           1.0     1.0   \n",
      "56           1.0     0.0  ...                   0.0           0.0     1.0   \n",
      "36497        1.0     1.0  ...                   1.0           1.0     1.0   \n",
      "\n",
      "       Veggies  HvyAlcoholConsump  AnyHealthcare  NoDocbcCost  DiffWalk  Sex  \\\n",
      "70203      1.0                0.0            1.0          0.0       0.0  1.0   \n",
      "40165      1.0                0.0            1.0          0.0       0.0  0.0   \n",
      "19224      1.0                0.0            1.0          0.0       0.0  0.0   \n",
      "971        1.0                0.0            1.0          0.0       0.0  0.0   \n",
      "48244      1.0                0.0            1.0          0.0       0.0  1.0   \n",
      "...        ...                ...            ...          ...       ...  ...   \n",
      "32577      0.0                0.0            1.0          0.0       0.0  0.0   \n",
      "48337      0.0                0.0            1.0          0.0       1.0  1.0   \n",
      "61327      1.0                0.0            1.0          0.0       0.0  0.0   \n",
      "56         1.0                0.0            1.0          0.0       0.0  0.0   \n",
      "36497      1.0                0.0            1.0          0.0       0.0  0.0   \n",
      "\n",
      "       BMI_scaled  \n",
      "70203   -0.403205  \n",
      "40165   -0.403205  \n",
      "19224   -0.262573  \n",
      "971     -1.387624  \n",
      "48244   -0.543836  \n",
      "...           ...  \n",
      "32577   -0.825098  \n",
      "48337    1.143740  \n",
      "61327    0.440583  \n",
      "56       1.565634  \n",
      "36497    1.565634  \n",
      "\n",
      "[53019 rows x 21 columns]\n"
     ]
    }
   ],
   "source": [
    "print(X_train)"
   ]
  },
  {
   "cell_type": "code",
   "execution_count": 27,
   "id": "83218d87-ec7f-44fe-a141-c63d917a30e6",
   "metadata": {},
   "outputs": [
    {
     "data": {
      "text/html": [
       "<style>#sk-container-id-1 {\n",
       "  /* Definition of color scheme common for light and dark mode */\n",
       "  --sklearn-color-text: black;\n",
       "  --sklearn-color-line: gray;\n",
       "  /* Definition of color scheme for unfitted estimators */\n",
       "  --sklearn-color-unfitted-level-0: #fff5e6;\n",
       "  --sklearn-color-unfitted-level-1: #f6e4d2;\n",
       "  --sklearn-color-unfitted-level-2: #ffe0b3;\n",
       "  --sklearn-color-unfitted-level-3: chocolate;\n",
       "  /* Definition of color scheme for fitted estimators */\n",
       "  --sklearn-color-fitted-level-0: #f0f8ff;\n",
       "  --sklearn-color-fitted-level-1: #d4ebff;\n",
       "  --sklearn-color-fitted-level-2: #b3dbfd;\n",
       "  --sklearn-color-fitted-level-3: cornflowerblue;\n",
       "\n",
       "  /* Specific color for light theme */\n",
       "  --sklearn-color-text-on-default-background: var(--sg-text-color, var(--theme-code-foreground, var(--jp-content-font-color1, black)));\n",
       "  --sklearn-color-background: var(--sg-background-color, var(--theme-background, var(--jp-layout-color0, white)));\n",
       "  --sklearn-color-border-box: var(--sg-text-color, var(--theme-code-foreground, var(--jp-content-font-color1, black)));\n",
       "  --sklearn-color-icon: #696969;\n",
       "\n",
       "  @media (prefers-color-scheme: dark) {\n",
       "    /* Redefinition of color scheme for dark theme */\n",
       "    --sklearn-color-text-on-default-background: var(--sg-text-color, var(--theme-code-foreground, var(--jp-content-font-color1, white)));\n",
       "    --sklearn-color-background: var(--sg-background-color, var(--theme-background, var(--jp-layout-color0, #111)));\n",
       "    --sklearn-color-border-box: var(--sg-text-color, var(--theme-code-foreground, var(--jp-content-font-color1, white)));\n",
       "    --sklearn-color-icon: #878787;\n",
       "  }\n",
       "}\n",
       "\n",
       "#sk-container-id-1 {\n",
       "  color: var(--sklearn-color-text);\n",
       "}\n",
       "\n",
       "#sk-container-id-1 pre {\n",
       "  padding: 0;\n",
       "}\n",
       "\n",
       "#sk-container-id-1 input.sk-hidden--visually {\n",
       "  border: 0;\n",
       "  clip: rect(1px 1px 1px 1px);\n",
       "  clip: rect(1px, 1px, 1px, 1px);\n",
       "  height: 1px;\n",
       "  margin: -1px;\n",
       "  overflow: hidden;\n",
       "  padding: 0;\n",
       "  position: absolute;\n",
       "  width: 1px;\n",
       "}\n",
       "\n",
       "#sk-container-id-1 div.sk-dashed-wrapped {\n",
       "  border: 1px dashed var(--sklearn-color-line);\n",
       "  margin: 0 0.4em 0.5em 0.4em;\n",
       "  box-sizing: border-box;\n",
       "  padding-bottom: 0.4em;\n",
       "  background-color: var(--sklearn-color-background);\n",
       "}\n",
       "\n",
       "#sk-container-id-1 div.sk-container {\n",
       "  /* jupyter's `normalize.less` sets `[hidden] { display: none; }`\n",
       "     but bootstrap.min.css set `[hidden] { display: none !important; }`\n",
       "     so we also need the `!important` here to be able to override the\n",
       "     default hidden behavior on the sphinx rendered scikit-learn.org.\n",
       "     See: https://github.com/scikit-learn/scikit-learn/issues/21755 */\n",
       "  display: inline-block !important;\n",
       "  position: relative;\n",
       "}\n",
       "\n",
       "#sk-container-id-1 div.sk-text-repr-fallback {\n",
       "  display: none;\n",
       "}\n",
       "\n",
       "div.sk-parallel-item,\n",
       "div.sk-serial,\n",
       "div.sk-item {\n",
       "  /* draw centered vertical line to link estimators */\n",
       "  background-image: linear-gradient(var(--sklearn-color-text-on-default-background), var(--sklearn-color-text-on-default-background));\n",
       "  background-size: 2px 100%;\n",
       "  background-repeat: no-repeat;\n",
       "  background-position: center center;\n",
       "}\n",
       "\n",
       "/* Parallel-specific style estimator block */\n",
       "\n",
       "#sk-container-id-1 div.sk-parallel-item::after {\n",
       "  content: \"\";\n",
       "  width: 100%;\n",
       "  border-bottom: 2px solid var(--sklearn-color-text-on-default-background);\n",
       "  flex-grow: 1;\n",
       "}\n",
       "\n",
       "#sk-container-id-1 div.sk-parallel {\n",
       "  display: flex;\n",
       "  align-items: stretch;\n",
       "  justify-content: center;\n",
       "  background-color: var(--sklearn-color-background);\n",
       "  position: relative;\n",
       "}\n",
       "\n",
       "#sk-container-id-1 div.sk-parallel-item {\n",
       "  display: flex;\n",
       "  flex-direction: column;\n",
       "}\n",
       "\n",
       "#sk-container-id-1 div.sk-parallel-item:first-child::after {\n",
       "  align-self: flex-end;\n",
       "  width: 50%;\n",
       "}\n",
       "\n",
       "#sk-container-id-1 div.sk-parallel-item:last-child::after {\n",
       "  align-self: flex-start;\n",
       "  width: 50%;\n",
       "}\n",
       "\n",
       "#sk-container-id-1 div.sk-parallel-item:only-child::after {\n",
       "  width: 0;\n",
       "}\n",
       "\n",
       "/* Serial-specific style estimator block */\n",
       "\n",
       "#sk-container-id-1 div.sk-serial {\n",
       "  display: flex;\n",
       "  flex-direction: column;\n",
       "  align-items: center;\n",
       "  background-color: var(--sklearn-color-background);\n",
       "  padding-right: 1em;\n",
       "  padding-left: 1em;\n",
       "}\n",
       "\n",
       "\n",
       "/* Toggleable style: style used for estimator/Pipeline/ColumnTransformer box that is\n",
       "clickable and can be expanded/collapsed.\n",
       "- Pipeline and ColumnTransformer use this feature and define the default style\n",
       "- Estimators will overwrite some part of the style using the `sk-estimator` class\n",
       "*/\n",
       "\n",
       "/* Pipeline and ColumnTransformer style (default) */\n",
       "\n",
       "#sk-container-id-1 div.sk-toggleable {\n",
       "  /* Default theme specific background. It is overwritten whether we have a\n",
       "  specific estimator or a Pipeline/ColumnTransformer */\n",
       "  background-color: var(--sklearn-color-background);\n",
       "}\n",
       "\n",
       "/* Toggleable label */\n",
       "#sk-container-id-1 label.sk-toggleable__label {\n",
       "  cursor: pointer;\n",
       "  display: block;\n",
       "  width: 100%;\n",
       "  margin-bottom: 0;\n",
       "  padding: 0.5em;\n",
       "  box-sizing: border-box;\n",
       "  text-align: center;\n",
       "}\n",
       "\n",
       "#sk-container-id-1 label.sk-toggleable__label-arrow:before {\n",
       "  /* Arrow on the left of the label */\n",
       "  content: \"▸\";\n",
       "  float: left;\n",
       "  margin-right: 0.25em;\n",
       "  color: var(--sklearn-color-icon);\n",
       "}\n",
       "\n",
       "#sk-container-id-1 label.sk-toggleable__label-arrow:hover:before {\n",
       "  color: var(--sklearn-color-text);\n",
       "}\n",
       "\n",
       "/* Toggleable content - dropdown */\n",
       "\n",
       "#sk-container-id-1 div.sk-toggleable__content {\n",
       "  max-height: 0;\n",
       "  max-width: 0;\n",
       "  overflow: hidden;\n",
       "  text-align: left;\n",
       "  /* unfitted */\n",
       "  background-color: var(--sklearn-color-unfitted-level-0);\n",
       "}\n",
       "\n",
       "#sk-container-id-1 div.sk-toggleable__content.fitted {\n",
       "  /* fitted */\n",
       "  background-color: var(--sklearn-color-fitted-level-0);\n",
       "}\n",
       "\n",
       "#sk-container-id-1 div.sk-toggleable__content pre {\n",
       "  margin: 0.2em;\n",
       "  border-radius: 0.25em;\n",
       "  color: var(--sklearn-color-text);\n",
       "  /* unfitted */\n",
       "  background-color: var(--sklearn-color-unfitted-level-0);\n",
       "}\n",
       "\n",
       "#sk-container-id-1 div.sk-toggleable__content.fitted pre {\n",
       "  /* unfitted */\n",
       "  background-color: var(--sklearn-color-fitted-level-0);\n",
       "}\n",
       "\n",
       "#sk-container-id-1 input.sk-toggleable__control:checked~div.sk-toggleable__content {\n",
       "  /* Expand drop-down */\n",
       "  max-height: 200px;\n",
       "  max-width: 100%;\n",
       "  overflow: auto;\n",
       "}\n",
       "\n",
       "#sk-container-id-1 input.sk-toggleable__control:checked~label.sk-toggleable__label-arrow:before {\n",
       "  content: \"▾\";\n",
       "}\n",
       "\n",
       "/* Pipeline/ColumnTransformer-specific style */\n",
       "\n",
       "#sk-container-id-1 div.sk-label input.sk-toggleable__control:checked~label.sk-toggleable__label {\n",
       "  color: var(--sklearn-color-text);\n",
       "  background-color: var(--sklearn-color-unfitted-level-2);\n",
       "}\n",
       "\n",
       "#sk-container-id-1 div.sk-label.fitted input.sk-toggleable__control:checked~label.sk-toggleable__label {\n",
       "  background-color: var(--sklearn-color-fitted-level-2);\n",
       "}\n",
       "\n",
       "/* Estimator-specific style */\n",
       "\n",
       "/* Colorize estimator box */\n",
       "#sk-container-id-1 div.sk-estimator input.sk-toggleable__control:checked~label.sk-toggleable__label {\n",
       "  /* unfitted */\n",
       "  background-color: var(--sklearn-color-unfitted-level-2);\n",
       "}\n",
       "\n",
       "#sk-container-id-1 div.sk-estimator.fitted input.sk-toggleable__control:checked~label.sk-toggleable__label {\n",
       "  /* fitted */\n",
       "  background-color: var(--sklearn-color-fitted-level-2);\n",
       "}\n",
       "\n",
       "#sk-container-id-1 div.sk-label label.sk-toggleable__label,\n",
       "#sk-container-id-1 div.sk-label label {\n",
       "  /* The background is the default theme color */\n",
       "  color: var(--sklearn-color-text-on-default-background);\n",
       "}\n",
       "\n",
       "/* On hover, darken the color of the background */\n",
       "#sk-container-id-1 div.sk-label:hover label.sk-toggleable__label {\n",
       "  color: var(--sklearn-color-text);\n",
       "  background-color: var(--sklearn-color-unfitted-level-2);\n",
       "}\n",
       "\n",
       "/* Label box, darken color on hover, fitted */\n",
       "#sk-container-id-1 div.sk-label.fitted:hover label.sk-toggleable__label.fitted {\n",
       "  color: var(--sklearn-color-text);\n",
       "  background-color: var(--sklearn-color-fitted-level-2);\n",
       "}\n",
       "\n",
       "/* Estimator label */\n",
       "\n",
       "#sk-container-id-1 div.sk-label label {\n",
       "  font-family: monospace;\n",
       "  font-weight: bold;\n",
       "  display: inline-block;\n",
       "  line-height: 1.2em;\n",
       "}\n",
       "\n",
       "#sk-container-id-1 div.sk-label-container {\n",
       "  text-align: center;\n",
       "}\n",
       "\n",
       "/* Estimator-specific */\n",
       "#sk-container-id-1 div.sk-estimator {\n",
       "  font-family: monospace;\n",
       "  border: 1px dotted var(--sklearn-color-border-box);\n",
       "  border-radius: 0.25em;\n",
       "  box-sizing: border-box;\n",
       "  margin-bottom: 0.5em;\n",
       "  /* unfitted */\n",
       "  background-color: var(--sklearn-color-unfitted-level-0);\n",
       "}\n",
       "\n",
       "#sk-container-id-1 div.sk-estimator.fitted {\n",
       "  /* fitted */\n",
       "  background-color: var(--sklearn-color-fitted-level-0);\n",
       "}\n",
       "\n",
       "/* on hover */\n",
       "#sk-container-id-1 div.sk-estimator:hover {\n",
       "  /* unfitted */\n",
       "  background-color: var(--sklearn-color-unfitted-level-2);\n",
       "}\n",
       "\n",
       "#sk-container-id-1 div.sk-estimator.fitted:hover {\n",
       "  /* fitted */\n",
       "  background-color: var(--sklearn-color-fitted-level-2);\n",
       "}\n",
       "\n",
       "/* Specification for estimator info (e.g. \"i\" and \"?\") */\n",
       "\n",
       "/* Common style for \"i\" and \"?\" */\n",
       "\n",
       ".sk-estimator-doc-link,\n",
       "a:link.sk-estimator-doc-link,\n",
       "a:visited.sk-estimator-doc-link {\n",
       "  float: right;\n",
       "  font-size: smaller;\n",
       "  line-height: 1em;\n",
       "  font-family: monospace;\n",
       "  background-color: var(--sklearn-color-background);\n",
       "  border-radius: 1em;\n",
       "  height: 1em;\n",
       "  width: 1em;\n",
       "  text-decoration: none !important;\n",
       "  margin-left: 1ex;\n",
       "  /* unfitted */\n",
       "  border: var(--sklearn-color-unfitted-level-1) 1pt solid;\n",
       "  color: var(--sklearn-color-unfitted-level-1);\n",
       "}\n",
       "\n",
       ".sk-estimator-doc-link.fitted,\n",
       "a:link.sk-estimator-doc-link.fitted,\n",
       "a:visited.sk-estimator-doc-link.fitted {\n",
       "  /* fitted */\n",
       "  border: var(--sklearn-color-fitted-level-1) 1pt solid;\n",
       "  color: var(--sklearn-color-fitted-level-1);\n",
       "}\n",
       "\n",
       "/* On hover */\n",
       "div.sk-estimator:hover .sk-estimator-doc-link:hover,\n",
       ".sk-estimator-doc-link:hover,\n",
       "div.sk-label-container:hover .sk-estimator-doc-link:hover,\n",
       ".sk-estimator-doc-link:hover {\n",
       "  /* unfitted */\n",
       "  background-color: var(--sklearn-color-unfitted-level-3);\n",
       "  color: var(--sklearn-color-background);\n",
       "  text-decoration: none;\n",
       "}\n",
       "\n",
       "div.sk-estimator.fitted:hover .sk-estimator-doc-link.fitted:hover,\n",
       ".sk-estimator-doc-link.fitted:hover,\n",
       "div.sk-label-container:hover .sk-estimator-doc-link.fitted:hover,\n",
       ".sk-estimator-doc-link.fitted:hover {\n",
       "  /* fitted */\n",
       "  background-color: var(--sklearn-color-fitted-level-3);\n",
       "  color: var(--sklearn-color-background);\n",
       "  text-decoration: none;\n",
       "}\n",
       "\n",
       "/* Span, style for the box shown on hovering the info icon */\n",
       ".sk-estimator-doc-link span {\n",
       "  display: none;\n",
       "  z-index: 9999;\n",
       "  position: relative;\n",
       "  font-weight: normal;\n",
       "  right: .2ex;\n",
       "  padding: .5ex;\n",
       "  margin: .5ex;\n",
       "  width: min-content;\n",
       "  min-width: 20ex;\n",
       "  max-width: 50ex;\n",
       "  color: var(--sklearn-color-text);\n",
       "  box-shadow: 2pt 2pt 4pt #999;\n",
       "  /* unfitted */\n",
       "  background: var(--sklearn-color-unfitted-level-0);\n",
       "  border: .5pt solid var(--sklearn-color-unfitted-level-3);\n",
       "}\n",
       "\n",
       ".sk-estimator-doc-link.fitted span {\n",
       "  /* fitted */\n",
       "  background: var(--sklearn-color-fitted-level-0);\n",
       "  border: var(--sklearn-color-fitted-level-3);\n",
       "}\n",
       "\n",
       ".sk-estimator-doc-link:hover span {\n",
       "  display: block;\n",
       "}\n",
       "\n",
       "/* \"?\"-specific style due to the `<a>` HTML tag */\n",
       "\n",
       "#sk-container-id-1 a.estimator_doc_link {\n",
       "  float: right;\n",
       "  font-size: 1rem;\n",
       "  line-height: 1em;\n",
       "  font-family: monospace;\n",
       "  background-color: var(--sklearn-color-background);\n",
       "  border-radius: 1rem;\n",
       "  height: 1rem;\n",
       "  width: 1rem;\n",
       "  text-decoration: none;\n",
       "  /* unfitted */\n",
       "  color: var(--sklearn-color-unfitted-level-1);\n",
       "  border: var(--sklearn-color-unfitted-level-1) 1pt solid;\n",
       "}\n",
       "\n",
       "#sk-container-id-1 a.estimator_doc_link.fitted {\n",
       "  /* fitted */\n",
       "  border: var(--sklearn-color-fitted-level-1) 1pt solid;\n",
       "  color: var(--sklearn-color-fitted-level-1);\n",
       "}\n",
       "\n",
       "/* On hover */\n",
       "#sk-container-id-1 a.estimator_doc_link:hover {\n",
       "  /* unfitted */\n",
       "  background-color: var(--sklearn-color-unfitted-level-3);\n",
       "  color: var(--sklearn-color-background);\n",
       "  text-decoration: none;\n",
       "}\n",
       "\n",
       "#sk-container-id-1 a.estimator_doc_link.fitted:hover {\n",
       "  /* fitted */\n",
       "  background-color: var(--sklearn-color-fitted-level-3);\n",
       "}\n",
       "</style><div id=\"sk-container-id-1\" class=\"sk-top-container\"><div class=\"sk-text-repr-fallback\"><pre>DecisionTreeClassifier()</pre><b>In a Jupyter environment, please rerun this cell to show the HTML representation or trust the notebook. <br />On GitHub, the HTML representation is unable to render, please try loading this page with nbviewer.org.</b></div><div class=\"sk-container\" hidden><div class=\"sk-item\"><div class=\"sk-estimator fitted sk-toggleable\"><input class=\"sk-toggleable__control sk-hidden--visually\" id=\"sk-estimator-id-1\" type=\"checkbox\" checked><label for=\"sk-estimator-id-1\" class=\"sk-toggleable__label fitted sk-toggleable__label-arrow fitted\">&nbsp;&nbsp;DecisionTreeClassifier<a class=\"sk-estimator-doc-link fitted\" rel=\"noreferrer\" target=\"_blank\" href=\"https://scikit-learn.org/1.4/modules/generated/sklearn.tree.DecisionTreeClassifier.html\">?<span>Documentation for DecisionTreeClassifier</span></a><span class=\"sk-estimator-doc-link fitted\">i<span>Fitted</span></span></label><div class=\"sk-toggleable__content fitted\"><pre>DecisionTreeClassifier()</pre></div> </div></div></div></div>"
      ],
      "text/plain": [
       "DecisionTreeClassifier()"
      ]
     },
     "execution_count": 27,
     "metadata": {},
     "output_type": "execute_result"
    }
   ],
   "source": [
    "# Nos données sont prêtes, nous pouvons définir le modèle et l'entrainer\n",
    "\n",
    "model = DecisionTreeClassifier()\n",
    "model.fit(X_train, Y_train)"
   ]
  },
  {
   "cell_type": "code",
   "execution_count": 386,
   "id": "c8d6500a-fa96-4dbf-b87c-e5561fbb27d1",
   "metadata": {},
   "outputs": [],
   "source": [
    "# On peut afficher l'arbre de décision s'il n'est pas trop volumineux\n",
    "\n",
    "# tree.plot_tree(model)"
   ]
  },
  {
   "cell_type": "markdown",
   "id": "29fe5233-737b-4d16-841b-e01a58cc39ec",
   "metadata": {},
   "source": [
    "# Model testing"
   ]
  },
  {
   "cell_type": "code",
   "execution_count": 29,
   "id": "65bea7d5-c0ad-4fc3-95a9-aa1cdd3827ae",
   "metadata": {},
   "outputs": [
    {
     "name": "stdout",
     "output_type": "stream",
     "text": [
      "[1. 0. 1. ... 0. 0. 1.]\n"
     ]
    }
   ],
   "source": [
    "# TO DO : Predict the test database\n",
    "\n",
    "predictions = model.predict(X_test)\n",
    "\n",
    "print(predictions)\n",
    "# Pour chaque individu, on a la prédiction correspondante.\n",
    "# Par exemple, d'après notre algorithme, le premier individu n'a pas le diabète contrairement au deuxième et au troisième"
   ]
  },
  {
   "cell_type": "markdown",
   "id": "546ec6b6-fa64-4a6a-8105-2b7e138d888b",
   "metadata": {},
   "source": [
    "# Analyse the results"
   ]
  },
  {
   "cell_type": "code",
   "execution_count": 31,
   "id": "8774f325-4616-415c-8782-41ccc804134d",
   "metadata": {},
   "outputs": [
    {
     "name": "stdout",
     "output_type": "stream",
     "text": [
      "0.650710122786171\n",
      "              precision    recall  f1-score   support\n",
      "\n",
      "         0.0       0.65      0.66      0.65      8863\n",
      "         1.0       0.65      0.64      0.65      8810\n",
      "\n",
      "    accuracy                           0.65     17673\n",
      "   macro avg       0.65      0.65      0.65     17673\n",
      "weighted avg       0.65      0.65      0.65     17673\n",
      "\n"
     ]
    }
   ],
   "source": [
    "# TO DO : use the correct metrics to analyse the results\n",
    "\n",
    "# Analysons les performances de notre modèle sur la base de test.\n",
    "\n",
    "print(accuracy_score(Y_test, predictions))\n",
    "\n",
    "print(classification_report(Y_test, predictions))\n",
    "\n",
    "# Il y a plusieurs métriques permettant d'analyser les performances d'une classification. Il faut choisir la métrique la plus adaptée\n",
    "# Il y a l'accuracy_score, la précision, le recall, le AUC_score, est encore quelques autres."
   ]
  },
  {
   "cell_type": "code",
   "execution_count": 391,
   "id": "a3b8ca9a-6661-4181-b6c8-9cd56588863b",
   "metadata": {},
   "outputs": [],
   "source": [
    "# Prenons en compte l'accuracy_score dans ce TP comme métrique d'analyse des performances.\n",
    "\n",
    "# Le score de notre modèle de base (avec les hyperparamètres par défaut) est de 65%.\n",
    "\n",
    "# Nous avons une première idée des performances, nous pouvons maintenant améliorer ce score.\n",
    "\n",
    "# Nous pouvons soit optimiser les hyperparamètres de l'algorithme soit retravailler la phase de préparation des données"
   ]
  },
  {
   "cell_type": "code",
   "execution_count": 392,
   "id": "1499cb0f-bd8a-4e30-83d8-10a7d53ccff5",
   "metadata": {},
   "outputs": [],
   "source": [
    "# Essayons de trouver les meilleurs hyperparamètres. Utilisons pour cela une grille de recherche"
   ]
  },
  {
   "cell_type": "code",
   "execution_count": 393,
   "id": "2e511042-6514-4a95-92bc-4a769c684927",
   "metadata": {},
   "outputs": [
    {
     "name": "stdout",
     "output_type": "stream",
     "text": [
      "Meilleurs paramètres trouvés : {'criterion': 'gini', 'max_depth': 8, 'min_samples_leaf': 5, 'min_samples_split': 20, 'splitter': 'best'}\n",
      "Meilleure précision : 0.7395461783464983\n"
     ]
    }
   ],
   "source": [
    "dt = DecisionTreeClassifier(random_state=42)\n",
    "\n",
    "# Définir la grille de paramètres\n",
    "param_grid = {\n",
    "    'criterion': ['gini', 'entropy'],\n",
    "    'splitter': ['best', 'random'],\n",
    "    'max_depth': [4, 8, 12],\n",
    "    'min_samples_split': [2, 10, 20],\n",
    "    'min_samples_leaf': [1, 5, 10]\n",
    "}\n",
    "\n",
    "# Configurer GridSearchCV\n",
    "grid_search = GridSearchCV(estimator=dt, param_grid=param_grid, cv=5, scoring='accuracy')\n",
    "\n",
    "# Entraîner GridSearchCV\n",
    "grid_search.fit(X_train, Y_train)\n",
    "\n",
    "# Afficher les meilleurs paramètres\n",
    "print(\"Meilleurs paramètres trouvés :\", grid_search.best_params_)\n",
    "print(\"Meilleure précision :\", grid_search.best_score_)"
   ]
  },
  {
   "cell_type": "code",
   "execution_count": 394,
   "id": "a6016026-8a62-4797-bcda-32da694c71e4",
   "metadata": {},
   "outputs": [
    {
     "name": "stdout",
     "output_type": "stream",
     "text": [
      "0.738584281106773\n"
     ]
    }
   ],
   "source": [
    "# Notre accuracy s'est énormément amélioré, nous avons gagné 8 points environ\n",
    "# Appliquons notre modèle avec les nouveaux hyperparamètres sur la base de test pour voir si cela ce confirme\n",
    "\n",
    "model = DecisionTreeClassifier(criterion = 'entropy', max_depth = 8, min_samples_leaf = 10, min_samples_split = 2, splitter = 'best')\n",
    "model.fit(X_train, Y_train)\n",
    "predictions = model.predict(X_test)\n",
    "print(accuracy_score(Y_test, predictions))\n",
    "\n",
    "# Oui, nous avons bien amélioré notre modèle"
   ]
  },
  {
   "cell_type": "code",
   "execution_count": 395,
   "id": "602458fe-3a0d-447d-8aa9-c855966cf8e3",
   "metadata": {},
   "outputs": [],
   "source": [
    "# Essayons maintenant d'appliquer deux autres algorihtmes : random forest et xgboost pour voir si on est meilleur"
   ]
  },
  {
   "cell_type": "code",
   "execution_count": 396,
   "id": "161d5e13-f6a0-4429-bbfa-9f5190c05752",
   "metadata": {},
   "outputs": [
    {
     "name": "stdout",
     "output_type": "stream",
     "text": [
      "RandomForest :  0.7397159508855315\n",
      "XGBoost :  0.7500141458722345\n"
     ]
    }
   ],
   "source": [
    "rf = RandomForestClassifier(random_state=42)\n",
    "xgb = XGBClassifier(random_state=42)\n",
    "\n",
    "rf.fit(X_train, Y_train)\n",
    "predictions = rf.predict(X_test)\n",
    "print(\"RandomForest : \", accuracy_score(Y_test, predictions))\n",
    "\n",
    "xgb.fit(X_train, Y_train)\n",
    "predictions = xgb.predict(X_test)\n",
    "print(\"XGBoost : \", accuracy_score(Y_test, predictions))"
   ]
  },
  {
   "cell_type": "code",
   "execution_count": 397,
   "id": "9474441d-a350-41f1-a386-62477cea8f8c",
   "metadata": {},
   "outputs": [],
   "source": [
    "# Sans optimisation, les deux modèles sont déjà au même niveau que le modèle des arbres de décision optimisé"
   ]
  },
  {
   "cell_type": "code",
   "execution_count": 398,
   "id": "49e0abb0-6a81-4d9c-951c-8981e73b6fba",
   "metadata": {},
   "outputs": [
    {
     "name": "stdout",
     "output_type": "stream",
     "text": [
      "Meilleurs paramètres pour Random Forest : {'max_depth': 8, 'min_samples_split': 2, 'n_estimators': 200}\n",
      "Meilleure précision pour Random Forest : 0.7497123935906627\n",
      "Meilleurs paramètres pour XGBoost : {'learning_rate': 0.1, 'max_depth': 3, 'n_estimators': 200}\n",
      "Meilleure précision pour XGBoost : 0.7528244854866774\n"
     ]
    }
   ],
   "source": [
    "rf = RandomForestClassifier(random_state=42)\n",
    "xgb = XGBClassifier(random_state=42)\n",
    "\n",
    "# Définir la grille de paramètres pour Random Forest / Nous pouvons en définir plein d'autres\n",
    "param_grid_rf = {\n",
    "    'n_estimators': [100, 200],\n",
    "    'max_depth': [4, 8],\n",
    "    'min_samples_split': [2, 10]\n",
    "}\n",
    "\n",
    "# Définir la grille de paramètres pour XGBoost / Nous pouvons en définir plein d'autres\n",
    "param_grid_xgb = {\n",
    "    'n_estimators': [100, 200],\n",
    "    'max_depth': [3, 6],\n",
    "    'learning_rate': [0.01, 0.1],\n",
    "}\n",
    "\n",
    "# Configurer GridSearchCV pour Random Forest\n",
    "grid_search_rf = GridSearchCV(estimator=rf, param_grid=param_grid_rf, cv=5, scoring='accuracy')\n",
    "\n",
    "# Entrainement\n",
    "grid_search_rf.fit(X_train, Y_train)\n",
    "\n",
    "# Configurer GridSearchCV pour XGBoost\n",
    "grid_search_xgb = GridSearchCV(estimator=xgb, param_grid=param_grid_xgb, cv=5, scoring='accuracy')\n",
    "\n",
    "# Entrainement\n",
    "grid_search_xgb.fit(X_train, Y_train)\n",
    "\n",
    "# Afficher les meilleurs paramètres et scores pour Random Forest\n",
    "print(\"Meilleurs paramètres pour Random Forest :\", grid_search_rf.best_params_)\n",
    "print(\"Meilleure précision pour Random Forest :\", grid_search_rf.best_score_)\n",
    "\n",
    "# Afficher les meilleurs paramètres et scores pour XGBoost\n",
    "print(\"Meilleurs paramètres pour XGBoost :\", grid_search_xgb.best_params_)\n",
    "print(\"Meilleure précision pour XGBoost :\", grid_search_xgb.best_score_)"
   ]
  },
  {
   "cell_type": "code",
   "execution_count": 399,
   "id": "106f5843-e48f-4616-b2ec-6c8ff56f319a",
   "metadata": {},
   "outputs": [],
   "source": [
    "# Les deux nouveaux algorithmes semblent apporter de meilleurs résultats, confirmons sur la base de test."
   ]
  },
  {
   "cell_type": "code",
   "execution_count": 405,
   "id": "c69c749b-c9e2-45f3-860b-94fc80ab8ab3",
   "metadata": {},
   "outputs": [
    {
     "name": "stdout",
     "output_type": "stream",
     "text": [
      "0.7479205567815311\n"
     ]
    }
   ],
   "source": [
    "model = RandomForestClassifier(max_depth = 8, min_samples_split = 2, n_estimators = 200)\n",
    "model.fit(X_train, Y_train)\n",
    "predictions = model.predict(X_test)\n",
    "print(accuracy_score(Y_test, predictions))"
   ]
  },
  {
   "cell_type": "code",
   "execution_count": 407,
   "id": "a907b4aa-291c-4e7f-b8e5-7ee507cdc1ca",
   "metadata": {},
   "outputs": [
    {
     "name": "stdout",
     "output_type": "stream",
     "text": [
      "0.7519945679850619\n"
     ]
    }
   ],
   "source": [
    "model = XGBClassifier(learning_rate = 0.1, max_depth = 3, n_estimators = 200)\n",
    "model.fit(X_train, Y_train)\n",
    "predictions = model.predict(X_test)\n",
    "print(accuracy_score(Y_test, predictions))"
   ]
  },
  {
   "cell_type": "code",
   "execution_count": 402,
   "id": "b13f0f90-07ae-4ef0-9210-9d21c3c016f2",
   "metadata": {},
   "outputs": [],
   "source": [
    "# Oui c'est le cas"
   ]
  },
  {
   "cell_type": "code",
   "execution_count": 403,
   "id": "7cccdcfa-2702-4a9e-9b9b-f579c15dee16",
   "metadata": {},
   "outputs": [],
   "source": [
    "# Nous avons terminé, nous pouvons reprendre notre travail et fournir un modèle final sous la forme d'un pipeline de Machine Learning"
   ]
  },
  {
   "cell_type": "code",
   "execution_count": 413,
   "id": "92f6f946-b160-4b04-b9e7-81adba1a0cd6",
   "metadata": {},
   "outputs": [
    {
     "name": "stdout",
     "output_type": "stream",
     "text": [
      "0.7492219770271035\n"
     ]
    }
   ],
   "source": [
    "df = pd.read_csv('./diabetes.csv')\n",
    "\n",
    "X = df[cat_columns + cont_columns + binary_columns] # X contient nos variables explicatives\n",
    "y = df[target] # y est notre variable à expliquer, autrement dit la variable cible\n",
    "\n",
    "cat_columns = ['GenHlth', 'Age', 'Education', 'Income']\n",
    "cont_columns = ['BMI', 'MentHlth', 'PhysHlth']\n",
    "binary_columns = ['HighBP', 'HighChol', 'CholCheck', 'Smoker', 'Stroke', 'HeartDiseaseorAttack', 'PhysActivity', \n",
    "                  'Fruits', 'Veggies', 'HvyAlcoholConsump', 'AnyHealthcare', 'NoDocbcCost', 'DiffWalk', 'Sex']\n",
    "\n",
    "X_train, X_test, Y_train, Y_test = train_test_split(X, y, test_size = 0.25) \n",
    "\n",
    "# Prétraitement des données\n",
    "preprocessor = ColumnTransformer(\n",
    "    transformers=[\n",
    "        ('cat', 'passthrough', cat_columns), # Opération blanche pour les variables catégorielles\n",
    "        ('cat_binary', 'passthrough', binary_columns), # Opération blanche pour les variables catégorielles\n",
    "        ('num', StandardScaler(), cont_columns)\n",
    "    ])\n",
    "\n",
    "# Pipeline de modélisation sans SMOTE\n",
    "model = Pipeline(steps=[\n",
    "    ('preprocessor', preprocessor),\n",
    "    ('classifier', XGBClassifier(learning_rate = 0.1, max_depth = 3, n_estimators = 200))\n",
    "])\n",
    "\n",
    "# Entraînement du modèle\n",
    "model.fit(X_train, Y_train)\n",
    "\n",
    "# Prédictions et évaluation\n",
    "y_pred = model.predict(X_test)\n",
    "\n",
    "print(accuracy_score(Y_test, y_pred))"
   ]
  }
 ],
 "metadata": {
  "kernelspec": {
   "display_name": "Python 3 (ipykernel)",
   "language": "python",
   "name": "python3"
  },
  "language_info": {
   "codemirror_mode": {
    "name": "ipython",
    "version": 3
   },
   "file_extension": ".py",
   "mimetype": "text/x-python",
   "name": "python",
   "nbconvert_exporter": "python",
   "pygments_lexer": "ipython3",
   "version": "3.11.2"
  }
 },
 "nbformat": 4,
 "nbformat_minor": 5
}
